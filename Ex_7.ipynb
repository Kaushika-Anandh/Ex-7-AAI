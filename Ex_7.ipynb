{
  "cells": [
    {
      "cell_type": "code",
      "execution_count": 1,
      "metadata": {
        "colab": {
          "base_uri": "https://localhost:8080/"
        },
        "id": "auCeT56k3CKG",
        "outputId": "c2e5a6f8-db76-47f0-e635-36685bf9c80b"
      },
      "outputs": [
        {
          "name": "stdout",
          "output_type": "stream",
          "text": [
            "Requirement already satisfied: nltk in /usr/local/lib/python3.10/dist-packages (3.8.1)\n",
            "Requirement already satisfied: click in /usr/local/lib/python3.10/dist-packages (from nltk) (8.1.7)\n",
            "Requirement already satisfied: joblib in /usr/local/lib/python3.10/dist-packages (from nltk) (1.4.0)\n",
            "Requirement already satisfied: regex>=2021.8.3 in /usr/local/lib/python3.10/dist-packages (from nltk) (2023.12.25)\n",
            "Requirement already satisfied: tqdm in /usr/local/lib/python3.10/dist-packages (from nltk) (4.66.2)\n"
          ]
        }
      ],
      "source": [
        "pip install nltk"
      ]
    },
    {
      "cell_type": "code",
      "execution_count": 2,
      "metadata": {
        "colab": {
          "base_uri": "https://localhost:8080/"
        },
        "id": "ccmkTqgr3CKJ",
        "outputId": "e04c51e7-398a-4c9b-9ebe-1f7d17b6c475"
      },
      "outputs": [
        {
          "name": "stderr",
          "output_type": "stream",
          "text": [
            "[nltk_data] Downloading package punkt to /root/nltk_data...\n",
            "[nltk_data]   Unzipping tokenizers/punkt.zip.\n",
            "[nltk_data] Downloading package stopwords to /root/nltk_data...\n",
            "[nltk_data]   Unzipping corpora/stopwords.zip.\n"
          ]
        },
        {
          "data": {
            "text/plain": [
              "True"
            ]
          },
          "execution_count": 2,
          "metadata": {},
          "output_type": "execute_result"
        }
      ],
      "source": [
        "import nltk\n",
        "from nltk.corpus import stopwords\n",
        "from nltk.tokenize import word_tokenize, sent_tokenize\n",
        "from nltk.stem import PorterStemmer\n",
        "nltk.download('punkt')\n",
        "nltk.download('stopwords')\n"
      ]
    },
    {
      "cell_type": "code",
      "execution_count": 3,
      "metadata": {
        "id": "e3gzf6LX3CKK"
      },
      "outputs": [],
      "source": [
        "def preprocess_text(text):\n",
        "  # Tokenize the text into words\n",
        "  words = word_tokenize (text)\n",
        "  # Remove stopwords and punctuation\n",
        "  stop_words = set(stopwords.words('english'))\n",
        "  filtered_words = [word for word in words if word.lower() not in stop_words and word.isalnum()]\n",
        "  # Stemming\n",
        "  stemmer = PorterStemmer()\n",
        "  stemmed_words = [stemmer.stem (word) for word in filtered_words]\n",
        "  return stemmed_words"
      ]
    },
    {
      "cell_type": "code",
      "execution_count": 4,
      "metadata": {
        "id": "p0bVLcqi3CKL"
      },
      "outputs": [],
      "source": [
        "def generate_summary (text, num_sentences=3):\n",
        "  sentences = sent_tokenize(text)\n",
        "  preprocessed_text = preprocess_text(text)\n",
        "  # Calculate the frequency of each word\n",
        "  word_frequencies = nltk. FreqDist(preprocessed_text)\n",
        "  # Calculate the score for each sentence based on word frequency\n",
        "  sentence_scores = {}\n",
        "  for sentence in sentences:\n",
        "    for word, freq in word_frequencies.items():\n",
        "      if word in sentence.lower():\n",
        "        if sentence not in sentence_scores:\n",
        "          sentence_scores [sentence] = freq\n",
        "        else:\n",
        "          sentence_scores [sentence] += freq\n",
        "  # Select top N sentences with highest scores\n",
        "  summary_sentences = sorted(sentence_scores, key=sentence_scores.get, reverse=True) [:num_sentences]\n",
        "  return''.join(summary_sentences)"
      ]
    },
    {
      "cell_type": "code",
      "execution_count": 11,
      "metadata": {
        "colab": {
          "base_uri": "https://localhost:8080/"
        },
        "id": "bl1C0tj33CKL",
        "outputId": "d194f0b1-246e-400e-f9ac-3d0f215e1b53"
      },
      "outputs": [
        {
          "name": "stdout",
          "output_type": "stream",
          "text": [
            "Original Text:\n",
            "Applied AI, or Applied Artificial Intelligence, refers to the practical implementation of artificial intelligence (AI) technologies to solve real-world problems across various industries and domains. \n",
            "Unlike theoretical AI research, which focuses on advancing the understanding of AI algorithms and methodologies, applied AI involves the deployment of AI solutions to address specific challenges or \n",
            "improve existing processes.\n",
            "\n",
            "Applied AI encompasses a wide range of applications, including natural language processing, computer vision, machine learning, robotics, and more. \n",
            "These technologies are utilized in fields such as healthcare, finance, manufacturing, transportation, customer service, and many others, to automate tasks, \n",
            "make predictions, optimize operations, and enhance decision-making.\n",
            "\n",
            "Key components of applied AI include data collection, preprocessing, algorithm selection and training, model deployment, and ongoing optimization and maintenance. \n",
            "It often involves interdisciplinary collaboration between AI specialists, domain experts, data scientists, software engineers, and other professionals to tailor \n",
            "AI solutions to the specific needs and constraints of the problem at hand.\n",
            "\n",
            "Overall, applied AI plays a crucial role in driving innovation, improving efficiency, and unlocking new opportunities across various sectors, ultimately contributing \n",
            "to advancements in technology and society as a whole.\n",
            "\n",
            "Summary:\n",
            "Unlike theoretical AI research, which focuses on advancing the understanding of AI algorithms and methodologies, applied AI involves the deployment of AI solutions to address specific challenges or \n",
            "improve existing processes.Overall, applied AI plays a crucial role in driving innovation, improving efficiency, and unlocking new opportunities across various sectors, ultimately contributing \n",
            "to advancements in technology and society as a whole.Key components of applied AI include data collection, preprocessing, algorithm selection and training, model deployment, and ongoing optimization and maintenance.\n"
          ]
        }
      ],
      "source": [
        "if __name__ == \"__main__\":\n",
        "    input_text = \"\"\"Applied AI, or Applied Artificial Intelligence, refers to the practical implementation of artificial intelligence (AI) technologies to solve real-world problems across various industries and domains.\n",
        "Unlike theoretical AI research, which focuses on advancing the understanding of AI algorithms and methodologies, applied AI involves the deployment of AI solutions to address specific challenges or\n",
        "improve existing processes.\n",
        "\n",
        "Applied AI encompasses a wide range of applications, including natural language processing, computer vision, machine learning, robotics, and more.\n",
        "These technologies are utilized in fields such as healthcare, finance, manufacturing, transportation, customer service, and many others, to automate tasks,\n",
        "make predictions, optimize operations, and enhance decision-making.\n",
        "\n",
        "Key components of applied AI include data collection, preprocessing, algorithm selection and training, model deployment, and ongoing optimization and maintenance.\n",
        "It often involves interdisciplinary collaboration between AI specialists, domain experts, data scientists, software engineers, and other professionals to tailor\n",
        "AI solutions to the specific needs and constraints of the problem at hand.\n",
        "\n",
        "Overall, applied AI plays a crucial role in driving innovation, improving efficiency, and unlocking new opportunities across various sectors, ultimately contributing\n",
        "to advancements in technology and society as a whole.\"\"\"\n",
        "    summary = generate_summary(input_text)\n",
        "    print(\"Original Text:\")\n",
        "    print(input_text)\n",
        "    print(\"\\nSummary:\")\n",
        "    print(summary)"
      ]
    }
  ],
  "metadata": {
    "colab": {
      "provenance": []
    },
    "kernelspec": {
      "display_name": "Python 3",
      "language": "python",
      "name": "python3"
    },
    "language_info": {
      "codemirror_mode": {
        "name": "ipython",
        "version": 3
      },
      "file_extension": ".py",
      "mimetype": "text/x-python",
      "name": "python",
      "nbconvert_exporter": "python",
      "pygments_lexer": "ipython3",
      "version": "3.10.6"
    }
  },
  "nbformat": 4,
  "nbformat_minor": 0
}
